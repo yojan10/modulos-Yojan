{
 "cells": [
  {
   "cell_type": "markdown",
   "metadata": {},
   "source": [
    "## Lectura y escritura de archivos en Python para análisis de datos\n",
    "\n",
    "**1. Lectura de archivos:**\n",
    "\n",
    "**1.1 Abriendo la puerta a los datos con** open()\n",
    "\n",
    "Para leer un archivo, utilizamos la función open(), la cual nos devuelve un objeto file. Este objeto nos permite acceder al contenido del archivo. Veamos la sintaxis básica:"
   ]
  },
  {
   "cell_type": "code",
   "execution_count": null,
   "metadata": {},
   "outputs": [],
   "source": [
    "archivo = open(\"archivo.txt\", \"r\")  # \"r\" indica modo lectura"
   ]
  },
  {
   "cell_type": "markdown",
   "metadata": {},
   "source": [
    "\n",
    "**Explicación:**\n",
    "\n",
    "- archivo es la variable que almacena el objeto file asociado al archivo \"archivo.txt\".\n",
    "- \"r\" indica que abrimos el archivo en modo lectura.\n",
    "\n",
    "**1.2 Leyendo línea a línea con** readline()\n",
    "\n",
    "  La función readline() lee una línea del archivo a la vez y la devuelve como una cadena de texto. Veamos un ejemplo:"
   ]
  },
  {
   "cell_type": "code",
   "execution_count": null,
   "metadata": {},
   "outputs": [],
   "source": [
    "linea = archivo.readline()\n",
    "print(linea)  # Imprime la línea leída\n",
    "\n",
    "# Leyendo y procesando cada línea\n",
    "while linea:\n",
    "    # Procesar la línea aquí (por ejemplo, limpiar o analizar datos)\n",
    "    linea = archivo.readline()"
   ]
  },
  {
   "cell_type": "markdown",
   "metadata": {},
   "source": [
    "  **Explicación:**\n",
    "\n",
    "- linea almacena la línea leída del archivo.\n",
    "- print(linea) muestra la línea en la consola.\n",
    "- El bucle while lee líneas hasta que no haya más en el archivo.\n",
    "\n",
    "**1.3 Leyendo todo el contenido con** read()\n",
    "\n",
    "  Si deseas leer todo el contenido del archivo a la vez, puedes usar read():"
   ]
  },
  {
   "cell_type": "code",
   "execution_count": null,
   "metadata": {},
   "outputs": [],
   "source": [
    "contenido = archivo.read()\n",
    "print(contenido)"
   ]
  },
  {
   "cell_type": "markdown",
   "metadata": {},
   "source": [
    "**Explicación:**\n",
    "\n",
    "- contenido almacena todo el texto del archivo como una cadena de texto.\n",
    "- print(contenido) muestra todo el contenido en la consola.\n",
    "\n",
    "**1.4 Cerrando la puerta con** close()\n",
    "\n",
    "  Es fundamental cerrar el archivo una vez que termines de usarlo:\n"
   ]
  },
  {
   "cell_type": "code",
   "execution_count": null,
   "metadata": {},
   "outputs": [],
   "source": [
    "archivo.close()"
   ]
  },
  {
   "cell_type": "markdown",
   "metadata": {},
   "source": [
    "**Explicación:**\n",
    "\n",
    "- archivo.close() libera los recursos asociados al archivo y garantiza su correcto cierre.\n",
    "\n",
    "**2. Escritura de archivos:**\n",
    "\n",
    "**2.1 Creando y escribiendo con** open()\n",
    "\n",
    "  Para escribir en un archivo, utilizamos open() en modo escritura:"
   ]
  },
  {
   "cell_type": "code",
   "execution_count": null,
   "metadata": {},
   "outputs": [],
   "source": [
    "archivo = open(\"archivo_nuevo.txt\", \"w\")  # \"w\" indica modo escritura\n",
    "archivo.write(\"¡Hola, mundo!\\n\")  # Escribe una línea en el archivo\n",
    "archivo.close()"
   ]
  },
  {
   "cell_type": "markdown",
   "metadata": {},
   "source": [
    "  **Explicación:**\n",
    "\n",
    "- archivo es la variable que almacena el objeto file asociado al archivo \"archivo\\_nuevo.txt\".\n",
    "- \"w\" indica que abrimos el archivo en modo escritura (sobrescribiendo el contenido existente).\n",
    "- archivo.write(\"¡Hola, mundo!\\n\") escribe la cadena \"Hola, mundo!\" en el archivo, incluyendo un salto de línea (\\n).\n",
    "- archivo.close() cierra el archivo.\n",
    "\n",
    "\n",
    "**2.2 Agregando contenido con** append()\n",
    "\n",
    "  Si deseas agregar contenido al final de un archivo existente, utiliza el modo append:"
   ]
  },
  {
   "cell_type": "code",
   "execution_count": null,
   "metadata": {},
   "outputs": [],
   "source": [
    "archivo = open(\"archivo_existente.txt\", \"a\")\n",
    "archivo.write(\"¡Más datos para el archivo!\\n\")\n",
    "archivo.close()"
   ]
  },
  {
   "cell_type": "markdown",
   "metadata": {},
   "source": [
    "**Explicación:**\n",
    "\n",
    "- \"a\" indica que abrimos el archivo en modo append (agregando contenido al final).\n",
    "- La escritura funciona igual que en modo w.\n",
    "\n",
    "**3. Manejo de excepciones:**\n",
    "\n",
    "  **3.1 Protegiéndonos con** try...except\n",
    "\n",
    "  Es importante proteger nuestro código de posibles errores al trabajar con archivos. Para ello, utilizamos el bloque try...except:"
   ]
  },
  {
   "cell_type": "code",
   "execution_count": 4,
   "metadata": {},
   "outputs": [
    {
     "name": "stdout",
     "output_type": "stream",
     "text": [
      "Error al abrir el archivo: [Errno 2] No such file or directory: 'archivo.txt'\n"
     ]
    },
    {
     "ename": "NameError",
     "evalue": "name 'archivo' is not defined",
     "output_type": "error",
     "traceback": [
      "\u001b[1;31m---------------------------------------------------------------------------\u001b[0m",
      "\u001b[1;31mNameError\u001b[0m                                 Traceback (most recent call last)",
      "Cell \u001b[1;32mIn[4], line 7\u001b[0m\n\u001b[0;32m      5\u001b[0m     \u001b[38;5;28mprint\u001b[39m(\u001b[38;5;124mf\u001b[39m\u001b[38;5;124m\"\u001b[39m\u001b[38;5;124mError al abrir el archivo: \u001b[39m\u001b[38;5;132;01m{\u001b[39;00me\u001b[38;5;132;01m}\u001b[39;00m\u001b[38;5;124m\"\u001b[39m)\n\u001b[0;32m      6\u001b[0m \u001b[38;5;28;01mfinally\u001b[39;00m:\n\u001b[1;32m----> 7\u001b[0m     \u001b[38;5;28;01mif\u001b[39;00m \u001b[43marchivo\u001b[49m:\n\u001b[0;32m      8\u001b[0m         archivo\u001b[38;5;241m.\u001b[39mclose()\n",
      "\u001b[1;31mNameError\u001b[0m: name 'archivo' is not defined"
     ]
    }
   ],
   "source": [
    "try:\n",
    "    archivo = open(\"archivo.txt\", \"r\")\n",
    "    # Operaciones con el archivo\n",
    "except Exception as e:  # Captura cualquier excepción\n",
    "    print(f\"Error al abrir el archivo: {e}\")\n",
    "finally:\n",
    "    if archivo:\n",
    "        archivo.close()"
   ]
  },
  {
   "cell_type": "markdown",
   "metadata": {},
   "source": [
    "  **Explicación:**\n",
    "\n",
    "- try: contiene el código que podría generar errores.\n",
    "- except Exception as e: captura cualquier excepción que ocurra en el bloque try.\n",
    "- print(f\"Error al abrir el archivo: {e}\") muestra un mensaje de error con la información de la excepción.\n",
    "- finally: se ejecuta siempre, incluso si hay un error o no."
   ]
  },
  {
   "cell_type": "markdown",
   "metadata": {},
   "source": [
    "## Ejemplo\n",
    "\n",
    "En este ejemplo, demostraremos cómo leer un archivo de texto y, si no existe, crearlo utilizando únicamente recursos nativos de Python."
   ]
  },
  {
   "cell_type": "code",
   "execution_count": 1,
   "metadata": {},
   "outputs": [
    {
     "name": "stdout",
     "output_type": "stream",
     "text": [
      "El archivo prueba.txt no existe. Creándolo...\n",
      "Archivo creado exitosamente.\n"
     ]
    }
   ],
   "source": [
    "def leer_archivo(nombre_archivo):\n",
    "    \"\"\"\n",
    "    Función para leer un archivo de texto.\n",
    "\n",
    "    Args:\n",
    "        nombre_archivo (str): El nombre del archivo a leer.\n",
    "\n",
    "    Returns:\n",
    "        str: El contenido del archivo si existe, o una cadena vacía si no existe.\n",
    "    \"\"\"\n",
    "    try:\n",
    "        with open(nombre_archivo, \"r\") as archivo:\n",
    "            contenido = archivo.read()\n",
    "            return contenido\n",
    "    except FileNotFoundError:\n",
    "        return \"\"\n",
    "\n",
    "\n",
    "def crear_archivo(nombre_archivo, contenido):\n",
    "    \"\"\"\n",
    "    Función para crear un archivo de texto y escribir contenido en él.\n",
    "\n",
    "    Args:\n",
    "        nombre_archivo (str): El nombre del archivo a crear.\n",
    "        contenido (str): El contenido a escribir en el archivo.\n",
    "    \"\"\"\n",
    "    with open(nombre_archivo, \"w\") as archivo:\n",
    "        archivo.write(contenido)\n",
    "\n",
    "\n",
    "nombre_archivo = \"prueba.txt\"\n",
    "contenido_archivo = \"Este es el contenido del archivo.\"\n",
    "\n",
    "# Intentamos leer el archivo\n",
    "contenido_leido = leer_archivo(nombre_archivo)\n",
    "\n",
    "# Si el archivo no existe, lo creamos y escribimos el contenido\n",
    "if not contenido_leido:\n",
    "    print(f\"El archivo {nombre_archivo} no existe. Creándolo...\")\n",
    "    crear_archivo(nombre_archivo, contenido_archivo)\n",
    "    print(\"Archivo creado exitosamente.\")\n",
    "\n",
    "# Si el archivo existe, imprimimos su contenido\n",
    "else:\n",
    "    print(f\"El contenido del archivo {nombre_archivo} es:\")\n",
    "    print(contenido_leido)"
   ]
  }
 ],
 "metadata": {
  "kernelspec": {
   "display_name": "Python 3",
   "language": "python",
   "name": "python3"
  },
  "language_info": {
   "codemirror_mode": {
    "name": "ipython",
    "version": 3
   },
   "file_extension": ".py",
   "mimetype": "text/x-python",
   "name": "python",
   "nbconvert_exporter": "python",
   "pygments_lexer": "ipython3",
   "version": "3.12.2"
  }
 },
 "nbformat": 4,
 "nbformat_minor": 2
}
